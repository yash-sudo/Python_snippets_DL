{
  "nbformat": 4,
  "nbformat_minor": 0,
  "metadata": {
    "colab": {
      "name": "Customizing tf Model",
      "provenance": [],
      "collapsed_sections": []
    },
    "kernelspec": {
      "name": "python3",
      "display_name": "Python 3"
    }
  },
  "cells": [
    {
      "cell_type": "code",
      "metadata": {
        "id": "ToZL_ho6xOok",
        "colab_type": "code",
        "colab": {}
      },
      "source": [
        "import numpy as np\n",
        "\n",
        "import matplotlib.pyplot as plt\n",
        "\n",
        "%tensorflow_version 2.x\n",
        "\n",
        "import tensorflow as tf\n",
        "\n",
        "from tensorflow.keras.models import Model\n",
        "\n",
        "from tensorflow.keras.layers import Dense , Conv2D, Flatten, MaxPooling2D\n",
        "\n",
        "from tensorflow.keras import utils\n",
        "\n",
        "from tensorflow.keras.datasets import mnist"
      ],
      "execution_count": 8,
      "outputs": []
    },
    {
      "cell_type": "code",
      "metadata": {
        "id": "NuR0YkiFsMz-",
        "colab_type": "code",
        "colab": {}
      },
      "source": [
        "(X_train, y_train), (X_test, y_test) = mnist.load_data()"
      ],
      "execution_count": 9,
      "outputs": []
    },
    {
      "cell_type": "code",
      "metadata": {
        "id": "AlNssnaXsM5f",
        "colab_type": "code",
        "colab": {}
      },
      "source": [
        "X_train = np.expand_dims(X_train, axis=3)\n",
        "\n",
        "X_test = np.expand_dims(X_test, axis=3)\n",
        "\n",
        "input_shape = (X_train.shape[1], X_train.shape[2], X_train.shape[3])\n",
        "\n",
        "\n",
        "X_train = X_train.astype('float32')\n",
        "X_test = X_test.astype('float32')\n",
        "\n",
        "#normalize\n",
        "X_train = X_train / 255.\n",
        "X_test = X_test / 255.\n"
      ],
      "execution_count": 10,
      "outputs": []
    },
    {
      "cell_type": "code",
      "metadata": {
        "id": "8OGoH-wOsM_v",
        "colab_type": "code",
        "colab": {}
      },
      "source": [
        "class MyModel(Model):#define model class\n",
        "  def __init__(self):\n",
        "    super(MyModel, self).__init__()\n",
        "    self.conv1 = Conv2D(32, 3, activation='relu')\n",
        "    self.flatten = Flatten()\n",
        "    self.d1 = Dense(128, activation='relu')\n",
        "    self.d2 = Dense(10)\n",
        "\n",
        "  def call(self, x):\n",
        "    x = self.conv1(x)\n",
        "    x = self.flatten(x)\n",
        "    x = self.d1(x)\n",
        "    return self.d2(x)\n",
        "\n",
        "  def train_step(self,dataset):\n",
        "    images=dataset[0]\n",
        "    labels=dataset[1]\n",
        "    with tf.GradientTape() as tape:\n",
        "      # training=True is only needed if there are layers with different\n",
        "      # behavior during training versus inference (e.g. Dropout).\n",
        "      predictions = model(images, training=True)\n",
        "      loss = loss_object(labels, predictions)\n",
        "    gradients = tape.gradient(loss, model.trainable_variables)\n",
        "    optimizer.apply_gradients(zip(gradients, model.trainable_variables))\n",
        "    train_loss(loss)\n",
        "    train_accuracy(labels, predictions)\n",
        "    print(\"Custom train_step fired!\")\n",
        "  \n",
        "  def test_step(self,dataset):\n",
        "    # training=False is only needed if there are layers with different\n",
        "    # behavior during training versus inference (e.g. Dropout).\n",
        "    print(\"Custom test_step called!\")\n",
        "    images=dataset[0]\n",
        "    labels=dataset[1]\n",
        "    predictions = model(images, training=False)\n",
        "    t_loss = loss_object(labels, predictions)\n",
        "    test_loss(t_loss)\n",
        "    test_accuracy(labels, predictions)\n",
        "    print(\"Custom test_step fired!\")\n"
      ],
      "execution_count": 16,
      "outputs": []
    },
    {
      "cell_type": "code",
      "metadata": {
        "id": "Ca3EepLfsM9g",
        "colab_type": "code",
        "colab": {}
      },
      "source": [
        "loss_object = tf.keras.losses.SparseCategoricalCrossentropy(from_logits=True)#from logits=true for normalization purpose\n",
        "#loss_object stores an instance of SparseCategoricalCrossentropy \n",
        "\n",
        "optimizer = tf.keras.optimizers.Adam()\n",
        "#optimizer stores an instance of Adam object  "
      ],
      "execution_count": 12,
      "outputs": []
    },
    {
      "cell_type": "code",
      "metadata": {
        "id": "RFxl48BZuVkC",
        "colab_type": "code",
        "colab": {}
      },
      "source": [
        "train_loss = tf.keras.metrics.Mean(name='train_loss')\n",
        "train_accuracy = tf.keras.metrics.SparseCategoricalAccuracy(name='train_accuracy')\n",
        "\n",
        "test_loss = tf.keras.metrics.Mean(name='test_loss')\n",
        "test_accuracy = tf.keras.metrics.SparseCategoricalAccuracy(name='test_accuracy')"
      ],
      "execution_count": 13,
      "outputs": []
    },
    {
      "cell_type": "code",
      "metadata": {
        "id": "bmZ5ooPbuVqB",
        "colab_type": "code",
        "colab": {
          "base_uri": "https://localhost:8080/",
          "height": 268
        },
        "outputId": "b530ee33-1038-4591-f22f-174b45cf5cb9"
      },
      "source": [
        "from sklearn.utils import shuffle\n",
        "\n",
        "# Create an instance of the model\n",
        "model=MyModel()\n",
        "X_train, y_train = shuffle(X_train, y_train)\n",
        "\n",
        "model.compile(optimizer=\"adam\",metrics='acc')\n",
        "\n",
        "history=model.fit(X_train,y_train,epochs=5)\n",
        "\n",
        "results=model.evaluate(X_test,y_test)"
      ],
      "execution_count": 17,
      "outputs": [
        {
          "output_type": "stream",
          "text": [
            "Epoch 1/5\n",
            "Custom train_step fired!\n",
            "Custom train_step fired!\n",
            "1875/1875 [==============================] - 61s 33ms/step\n",
            "Epoch 2/5\n",
            "1875/1875 [==============================] - 61s 32ms/step\n",
            "Epoch 3/5\n",
            "1875/1875 [==============================] - 61s 32ms/step\n",
            "Epoch 4/5\n",
            "1875/1875 [==============================] - 61s 33ms/step\n",
            "Epoch 5/5\n",
            "1875/1875 [==============================] - 61s 33ms/step\n",
            "Custom test_step called!\n",
            "Custom test_step fired!\n",
            "313/313 [==============================] - 3s 9ms/step\n"
          ],
          "name": "stdout"
        }
      ]
    }
  ]
}